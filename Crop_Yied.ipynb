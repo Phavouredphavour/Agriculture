{
 "cells": [
  {
   "cell_type": "code",
   "execution_count": 52,
   "id": "6c107f94-40e8-4bba-aaac-ec1965835382",
   "metadata": {},
   "outputs": [],
   "source": [
    "# Importing necessary libaries\n",
    "\n",
    "import numpy as np\n",
    "import pandas as pd"
   ]
  },
  {
   "cell_type": "code",
   "execution_count": 75,
   "id": "463f6c33-bd17-4cfa-b808-9c8e9128b7d3",
   "metadata": {},
   "outputs": [],
   "source": [
    "# Importing the datasets\n",
    "\n",
    "Pesticides = pd.read_csv(\"C:/Users/USER/Desktop/TechCrush/pesticides.csv\")\n",
    "Rainfall = pd.read_csv(\"C:/Users/USER/Desktop/TechCrush/rainfall.csv\")\n",
    "Temperature = pd.read_csv(\"C:/Users/USER/Desktop/TechCrush/temp.csv\")\n",
    "Yield = pd.read_csv(\"C:/Users/USER/Desktop/TechCrush/yield.csv\")\n",
    "Crop_Yield = pd.read_csv(\"C:/Users/USER/Desktop/TechCrush/yield_df.csv\")"
   ]
  },
  {
   "cell_type": "markdown",
   "id": "6a547305-a5a3-4ec0-81f4-29ef2192df23",
   "metadata": {},
   "source": [
    "## DATA CLEANNG AND MANIPULATION"
   ]
  },
  {
   "cell_type": "markdown",
   "id": "b12f9450-a6fd-4d52-83a1-e3159f0ec99d",
   "metadata": {},
   "source": [
    "### Pesticide Dataset"
   ]
  },
  {
   "cell_type": "code",
   "execution_count": 54,
   "id": "99dcd323-f663-48a1-a6dd-328b1e3c8bc6",
   "metadata": {},
   "outputs": [
    {
     "data": {
      "text/html": [
       "<div>\n",
       "<style scoped>\n",
       "    .dataframe tbody tr th:only-of-type {\n",
       "        vertical-align: middle;\n",
       "    }\n",
       "\n",
       "    .dataframe tbody tr th {\n",
       "        vertical-align: top;\n",
       "    }\n",
       "\n",
       "    .dataframe thead th {\n",
       "        text-align: right;\n",
       "    }\n",
       "</style>\n",
       "<table border=\"1\" class=\"dataframe\">\n",
       "  <thead>\n",
       "    <tr style=\"text-align: right;\">\n",
       "      <th></th>\n",
       "      <th>Domain</th>\n",
       "      <th>Area</th>\n",
       "      <th>Element</th>\n",
       "      <th>Item</th>\n",
       "      <th>Year</th>\n",
       "      <th>Unit</th>\n",
       "      <th>Value</th>\n",
       "    </tr>\n",
       "  </thead>\n",
       "  <tbody>\n",
       "    <tr>\n",
       "      <th>0</th>\n",
       "      <td>Pesticides Use</td>\n",
       "      <td>Albania</td>\n",
       "      <td>Use</td>\n",
       "      <td>Pesticides (total)</td>\n",
       "      <td>1990</td>\n",
       "      <td>tonnes of active ingredients</td>\n",
       "      <td>121.0</td>\n",
       "    </tr>\n",
       "    <tr>\n",
       "      <th>1</th>\n",
       "      <td>Pesticides Use</td>\n",
       "      <td>Albania</td>\n",
       "      <td>Use</td>\n",
       "      <td>Pesticides (total)</td>\n",
       "      <td>1991</td>\n",
       "      <td>tonnes of active ingredients</td>\n",
       "      <td>121.0</td>\n",
       "    </tr>\n",
       "    <tr>\n",
       "      <th>2</th>\n",
       "      <td>Pesticides Use</td>\n",
       "      <td>Albania</td>\n",
       "      <td>Use</td>\n",
       "      <td>Pesticides (total)</td>\n",
       "      <td>1992</td>\n",
       "      <td>tonnes of active ingredients</td>\n",
       "      <td>121.0</td>\n",
       "    </tr>\n",
       "    <tr>\n",
       "      <th>3</th>\n",
       "      <td>Pesticides Use</td>\n",
       "      <td>Albania</td>\n",
       "      <td>Use</td>\n",
       "      <td>Pesticides (total)</td>\n",
       "      <td>1993</td>\n",
       "      <td>tonnes of active ingredients</td>\n",
       "      <td>121.0</td>\n",
       "    </tr>\n",
       "    <tr>\n",
       "      <th>4</th>\n",
       "      <td>Pesticides Use</td>\n",
       "      <td>Albania</td>\n",
       "      <td>Use</td>\n",
       "      <td>Pesticides (total)</td>\n",
       "      <td>1994</td>\n",
       "      <td>tonnes of active ingredients</td>\n",
       "      <td>201.0</td>\n",
       "    </tr>\n",
       "  </tbody>\n",
       "</table>\n",
       "</div>"
      ],
      "text/plain": [
       "           Domain     Area Element                Item  Year  \\\n",
       "0  Pesticides Use  Albania     Use  Pesticides (total)  1990   \n",
       "1  Pesticides Use  Albania     Use  Pesticides (total)  1991   \n",
       "2  Pesticides Use  Albania     Use  Pesticides (total)  1992   \n",
       "3  Pesticides Use  Albania     Use  Pesticides (total)  1993   \n",
       "4  Pesticides Use  Albania     Use  Pesticides (total)  1994   \n",
       "\n",
       "                           Unit  Value  \n",
       "0  tonnes of active ingredients  121.0  \n",
       "1  tonnes of active ingredients  121.0  \n",
       "2  tonnes of active ingredients  121.0  \n",
       "3  tonnes of active ingredients  121.0  \n",
       "4  tonnes of active ingredients  201.0  "
      ]
     },
     "execution_count": 54,
     "metadata": {},
     "output_type": "execute_result"
    }
   ],
   "source": [
    "# Display the first five rows of the Pesticides DataFrame\n",
    "\n",
    "Pesticides.head()"
   ]
  },
  {
   "cell_type": "code",
   "execution_count": 55,
   "id": "396d7ff3-46e0-4eb3-bbbb-5b35b2aab1ec",
   "metadata": {},
   "outputs": [
    {
     "name": "stdout",
     "output_type": "stream",
     "text": [
      "<class 'pandas.core.frame.DataFrame'>\n",
      "RangeIndex: 4349 entries, 0 to 4348\n",
      "Data columns (total 7 columns):\n",
      " #   Column   Non-Null Count  Dtype  \n",
      "---  ------   --------------  -----  \n",
      " 0   Domain   4349 non-null   object \n",
      " 1   Area     4349 non-null   object \n",
      " 2   Element  4349 non-null   object \n",
      " 3   Item     4349 non-null   object \n",
      " 4   Year     4349 non-null   int64  \n",
      " 5   Unit     4349 non-null   object \n",
      " 6   Value    4349 non-null   float64\n",
      "dtypes: float64(1), int64(1), object(5)\n",
      "memory usage: 238.0+ KB\n"
     ]
    }
   ],
   "source": [
    "# Display summary information about the Pesticides DataFrame\n",
    "\n",
    "Pesticides.info()"
   ]
  },
  {
   "cell_type": "markdown",
   "id": "996795f1-6d40-4c1c-a452-d0eace2d870c",
   "metadata": {},
   "source": [
    "### Rainfall Dataset"
   ]
  },
  {
   "cell_type": "code",
   "execution_count": 74,
   "id": "a7d0963b-f1aa-4696-a5f2-b4b7ce5049ea",
   "metadata": {},
   "outputs": [
    {
     "data": {
      "text/html": [
       "<div>\n",
       "<style scoped>\n",
       "    .dataframe tbody tr th:only-of-type {\n",
       "        vertical-align: middle;\n",
       "    }\n",
       "\n",
       "    .dataframe tbody tr th {\n",
       "        vertical-align: top;\n",
       "    }\n",
       "\n",
       "    .dataframe thead th {\n",
       "        text-align: right;\n",
       "    }\n",
       "</style>\n",
       "<table border=\"1\" class=\"dataframe\">\n",
       "  <thead>\n",
       "    <tr style=\"text-align: right;\">\n",
       "      <th></th>\n",
       "      <th>Area</th>\n",
       "      <th>Year</th>\n",
       "      <th>average_rain_fall_mm_per_year</th>\n",
       "    </tr>\n",
       "  </thead>\n",
       "  <tbody>\n",
       "    <tr>\n",
       "      <th>0</th>\n",
       "      <td>Afghanistan</td>\n",
       "      <td>1985</td>\n",
       "      <td>327.0</td>\n",
       "    </tr>\n",
       "    <tr>\n",
       "      <th>1</th>\n",
       "      <td>Afghanistan</td>\n",
       "      <td>1986</td>\n",
       "      <td>327.0</td>\n",
       "    </tr>\n",
       "    <tr>\n",
       "      <th>2</th>\n",
       "      <td>Afghanistan</td>\n",
       "      <td>1987</td>\n",
       "      <td>327.0</td>\n",
       "    </tr>\n",
       "    <tr>\n",
       "      <th>3</th>\n",
       "      <td>Afghanistan</td>\n",
       "      <td>1989</td>\n",
       "      <td>327.0</td>\n",
       "    </tr>\n",
       "    <tr>\n",
       "      <th>4</th>\n",
       "      <td>Afghanistan</td>\n",
       "      <td>1990</td>\n",
       "      <td>327.0</td>\n",
       "    </tr>\n",
       "  </tbody>\n",
       "</table>\n",
       "</div>"
      ],
      "text/plain": [
       "          Area  Year  average_rain_fall_mm_per_year\n",
       "0  Afghanistan  1985                          327.0\n",
       "1  Afghanistan  1986                          327.0\n",
       "2  Afghanistan  1987                          327.0\n",
       "3  Afghanistan  1989                          327.0\n",
       "4  Afghanistan  1990                          327.0"
      ]
     },
     "execution_count": 74,
     "metadata": {},
     "output_type": "execute_result"
    }
   ],
   "source": [
    "# Display the first five rows of the Rainfall DataFrame\n",
    "\n",
    "Rainfall.head()"
   ]
  },
  {
   "cell_type": "code",
   "execution_count": 58,
   "id": "943d968f-f339-4400-883b-7567007fe704",
   "metadata": {},
   "outputs": [
    {
     "name": "stdout",
     "output_type": "stream",
     "text": [
      "<class 'pandas.core.frame.DataFrame'>\n",
      "RangeIndex: 6727 entries, 0 to 6726\n",
      "Data columns (total 3 columns):\n",
      " #   Column                         Non-Null Count  Dtype \n",
      "---  ------                         --------------  ----- \n",
      " 0    Area                          6727 non-null   object\n",
      " 1   Year                           6727 non-null   int64 \n",
      " 2   average_rain_fall_mm_per_year  5953 non-null   object\n",
      "dtypes: int64(1), object(2)\n",
      "memory usage: 157.8+ KB\n"
     ]
    }
   ],
   "source": [
    "# Display summary information about the Rainfall DataFrame\n",
    "\n",
    "Rainfall.info()"
   ]
  },
  {
   "cell_type": "code",
   "execution_count": 59,
   "id": "191e66ee-eb2b-445e-adf6-7da33a86bba6",
   "metadata": {},
   "outputs": [
    {
     "data": {
      "text/plain": [
       " Area                              0\n",
       "Year                               0\n",
       "average_rain_fall_mm_per_year    774\n",
       "dtype: int64"
      ]
     },
     "execution_count": 59,
     "metadata": {},
     "output_type": "execute_result"
    }
   ],
   "source": [
    "# Check for total number of missing values\n",
    "\n",
    "Rainfall.isna().sum()"
   ]
  },
  {
   "cell_type": "code",
   "execution_count": 60,
   "id": "0ad238c8-19fd-4b79-b2fc-6bdf4d9b4b9e",
   "metadata": {},
   "outputs": [],
   "source": [
    "# Convert the 'average_rain_fall_mm_per_year' column from 'string datatype' to 'numeric datatype'\n",
    "\n",
    "Rainfall[\"average_rain_fall_mm_per_year\"] = pd.to_numeric(Rainfall[\"average_rain_fall_mm_per_year\"], errors='coerce')"
   ]
  },
  {
   "cell_type": "code",
   "execution_count": 61,
   "id": "f01d9846-5c04-4f6f-85dd-2199df715290",
   "metadata": {},
   "outputs": [
    {
     "data": {
      "text/plain": [
       "0.6970011268208575"
      ]
     },
     "execution_count": 61,
     "metadata": {},
     "output_type": "execute_result"
    }
   ],
   "source": [
    "# Calculate the skewness of the 'average_rain_fall_mm_per_year' column to understand its distribution shape\n",
    "\n",
    "Rainfall[\"average_rain_fall_mm_per_year\"].skew()"
   ]
  },
  {
   "cell_type": "code",
   "execution_count": 62,
   "id": "f00fef6f-ef86-4680-895b-a8381e6e1243",
   "metadata": {},
   "outputs": [],
   "source": [
    "# Fill missing values in 'average_rain_fall_mm_per_year' with the median values since distribution is skewed to the right\n",
    "\n",
    "Rainfall[\"average_rain_fall_mm_per_year\"] = Rainfall[\"average_rain_fall_mm_per_year\"].fillna(Rainfall[\"average_rain_fall_mm_per_year\"].median())"
   ]
  },
  {
   "cell_type": "markdown",
   "id": "9628b392-5906-4ca4-bed2-f6037931b6d3",
   "metadata": {},
   "source": [
    "### Temperature Dataset"
   ]
  },
  {
   "cell_type": "code",
   "execution_count": 63,
   "id": "9f3f1a47-cf14-4fea-8d0e-cb7cf6efc459",
   "metadata": {},
   "outputs": [
    {
     "data": {
      "text/html": [
       "<div>\n",
       "<style scoped>\n",
       "    .dataframe tbody tr th:only-of-type {\n",
       "        vertical-align: middle;\n",
       "    }\n",
       "\n",
       "    .dataframe tbody tr th {\n",
       "        vertical-align: top;\n",
       "    }\n",
       "\n",
       "    .dataframe thead th {\n",
       "        text-align: right;\n",
       "    }\n",
       "</style>\n",
       "<table border=\"1\" class=\"dataframe\">\n",
       "  <thead>\n",
       "    <tr style=\"text-align: right;\">\n",
       "      <th></th>\n",
       "      <th>year</th>\n",
       "      <th>country</th>\n",
       "      <th>avg_temp</th>\n",
       "    </tr>\n",
       "  </thead>\n",
       "  <tbody>\n",
       "    <tr>\n",
       "      <th>0</th>\n",
       "      <td>1849</td>\n",
       "      <td>Côte D'Ivoire</td>\n",
       "      <td>25.58</td>\n",
       "    </tr>\n",
       "    <tr>\n",
       "      <th>1</th>\n",
       "      <td>1850</td>\n",
       "      <td>Côte D'Ivoire</td>\n",
       "      <td>25.52</td>\n",
       "    </tr>\n",
       "    <tr>\n",
       "      <th>2</th>\n",
       "      <td>1851</td>\n",
       "      <td>Côte D'Ivoire</td>\n",
       "      <td>25.67</td>\n",
       "    </tr>\n",
       "    <tr>\n",
       "      <th>3</th>\n",
       "      <td>1852</td>\n",
       "      <td>Côte D'Ivoire</td>\n",
       "      <td>NaN</td>\n",
       "    </tr>\n",
       "    <tr>\n",
       "      <th>4</th>\n",
       "      <td>1853</td>\n",
       "      <td>Côte D'Ivoire</td>\n",
       "      <td>NaN</td>\n",
       "    </tr>\n",
       "  </tbody>\n",
       "</table>\n",
       "</div>"
      ],
      "text/plain": [
       "   year        country  avg_temp\n",
       "0  1849  Côte D'Ivoire     25.58\n",
       "1  1850  Côte D'Ivoire     25.52\n",
       "2  1851  Côte D'Ivoire     25.67\n",
       "3  1852  Côte D'Ivoire       NaN\n",
       "4  1853  Côte D'Ivoire       NaN"
      ]
     },
     "execution_count": 63,
     "metadata": {},
     "output_type": "execute_result"
    }
   ],
   "source": [
    "# Display the first five rows of the Temperature DataFrame\n",
    "\n",
    "Temperature.head()"
   ]
  },
  {
   "cell_type": "code",
   "execution_count": 64,
   "id": "bdf9bdbe-c694-406a-8842-686b7c8fdff6",
   "metadata": {},
   "outputs": [
    {
     "name": "stdout",
     "output_type": "stream",
     "text": [
      "<class 'pandas.core.frame.DataFrame'>\n",
      "RangeIndex: 71311 entries, 0 to 71310\n",
      "Data columns (total 3 columns):\n",
      " #   Column    Non-Null Count  Dtype  \n",
      "---  ------    --------------  -----  \n",
      " 0   year      71311 non-null  int64  \n",
      " 1   country   71311 non-null  object \n",
      " 2   avg_temp  68764 non-null  float64\n",
      "dtypes: float64(1), int64(1), object(1)\n",
      "memory usage: 1.6+ MB\n"
     ]
    }
   ],
   "source": [
    "# Display summary information about the Temperature DataFrame\n",
    "\n",
    "Temperature.info()"
   ]
  },
  {
   "cell_type": "code",
   "execution_count": 65,
   "id": "2ec6a7df-cfc0-4c43-bcca-bd2764d7fcde",
   "metadata": {},
   "outputs": [
    {
     "data": {
      "text/plain": [
       "year           0\n",
       "country        0\n",
       "avg_temp    2547\n",
       "dtype: int64"
      ]
     },
     "execution_count": 65,
     "metadata": {},
     "output_type": "execute_result"
    }
   ],
   "source": [
    "# Check for total number of missing values\n",
    "\n",
    "Temperature.isna().sum()"
   ]
  },
  {
   "cell_type": "code",
   "execution_count": 71,
   "id": "160c0cff-754f-4d22-9bba-eb7291dc5b87",
   "metadata": {},
   "outputs": [],
   "source": [
    "# Drop the 'avg_temp' column due to excessive missing value\n",
    "\n",
    "Temperature.drop(columns=[\"avg_temp\"], inplace=True)"
   ]
  },
  {
   "cell_type": "markdown",
   "id": "945c5cd7-5f2a-4800-b3a3-8a74b47d64dc",
   "metadata": {},
   "source": [
    "### Yield Dataset"
   ]
  },
  {
   "cell_type": "code",
   "execution_count": 66,
   "id": "a433668f-f03e-4b72-8cb3-e6c8e66fbf99",
   "metadata": {},
   "outputs": [
    {
     "data": {
      "text/plain": [
       "<bound method NDFrame.head of       Domain Code Domain  Area Code         Area  Element Code Element  \\\n",
       "0              QC  Crops          2  Afghanistan          5419   Yield   \n",
       "1              QC  Crops          2  Afghanistan          5419   Yield   \n",
       "2              QC  Crops          2  Afghanistan          5419   Yield   \n",
       "3              QC  Crops          2  Afghanistan          5419   Yield   \n",
       "4              QC  Crops          2  Afghanistan          5419   Yield   \n",
       "...           ...    ...        ...          ...           ...     ...   \n",
       "56712          QC  Crops        181     Zimbabwe          5419   Yield   \n",
       "56713          QC  Crops        181     Zimbabwe          5419   Yield   \n",
       "56714          QC  Crops        181     Zimbabwe          5419   Yield   \n",
       "56715          QC  Crops        181     Zimbabwe          5419   Yield   \n",
       "56716          QC  Crops        181     Zimbabwe          5419   Yield   \n",
       "\n",
       "       Item Code   Item  Year Code  Year   Unit  Value  \n",
       "0             56  Maize       1961  1961  hg/ha  14000  \n",
       "1             56  Maize       1962  1962  hg/ha  14000  \n",
       "2             56  Maize       1963  1963  hg/ha  14260  \n",
       "3             56  Maize       1964  1964  hg/ha  14257  \n",
       "4             56  Maize       1965  1965  hg/ha  14400  \n",
       "...          ...    ...        ...   ...    ...    ...  \n",
       "56712         15  Wheat       2012  2012  hg/ha  24420  \n",
       "56713         15  Wheat       2013  2013  hg/ha  22888  \n",
       "56714         15  Wheat       2014  2014  hg/ha  21357  \n",
       "56715         15  Wheat       2015  2015  hg/ha  19826  \n",
       "56716         15  Wheat       2016  2016  hg/ha  18294  \n",
       "\n",
       "[56717 rows x 12 columns]>"
      ]
     },
     "execution_count": 66,
     "metadata": {},
     "output_type": "execute_result"
    }
   ],
   "source": [
    "# Display the first five rows of the Yield DataFrame\n",
    "\n",
    "Yield.head"
   ]
  },
  {
   "cell_type": "code",
   "execution_count": 67,
   "id": "3bdbaea7-da9b-4287-9b37-d613ae326555",
   "metadata": {},
   "outputs": [
    {
     "name": "stdout",
     "output_type": "stream",
     "text": [
      "<class 'pandas.core.frame.DataFrame'>\n",
      "RangeIndex: 56717 entries, 0 to 56716\n",
      "Data columns (total 12 columns):\n",
      " #   Column        Non-Null Count  Dtype \n",
      "---  ------        --------------  ----- \n",
      " 0   Domain Code   56717 non-null  object\n",
      " 1   Domain        56717 non-null  object\n",
      " 2   Area Code     56717 non-null  int64 \n",
      " 3   Area          56717 non-null  object\n",
      " 4   Element Code  56717 non-null  int64 \n",
      " 5   Element       56717 non-null  object\n",
      " 6   Item Code     56717 non-null  int64 \n",
      " 7   Item          56717 non-null  object\n",
      " 8   Year Code     56717 non-null  int64 \n",
      " 9   Year          56717 non-null  int64 \n",
      " 10  Unit          56717 non-null  object\n",
      " 11  Value         56717 non-null  int64 \n",
      "dtypes: int64(6), object(6)\n",
      "memory usage: 5.2+ MB\n"
     ]
    }
   ],
   "source": [
    "# Display summary information about the Yield DataFrame\n",
    "\n",
    "Yield.info()"
   ]
  },
  {
   "cell_type": "markdown",
   "id": "40a6b8a3-3319-4cba-8a20-c8898d6b3a3b",
   "metadata": {},
   "source": [
    "### Crop_Yield Dataset"
   ]
  },
  {
   "cell_type": "code",
   "execution_count": 77,
   "id": "7e436bb1-7e00-450e-98b0-992e6ed27291",
   "metadata": {},
   "outputs": [
    {
     "data": {
      "text/plain": [
       "<bound method NDFrame.head of        Unnamed: 0      Area            Item  Year  hg/ha_yield  \\\n",
       "0               0   Albania           Maize  1990        36613   \n",
       "1               1   Albania        Potatoes  1990        66667   \n",
       "2               2   Albania     Rice, paddy  1990        23333   \n",
       "3               3   Albania         Sorghum  1990        12500   \n",
       "4               4   Albania        Soybeans  1990         7000   \n",
       "...           ...       ...             ...   ...          ...   \n",
       "28237       28237  Zimbabwe     Rice, paddy  2013        22581   \n",
       "28238       28238  Zimbabwe         Sorghum  2013         3066   \n",
       "28239       28239  Zimbabwe        Soybeans  2013        13142   \n",
       "28240       28240  Zimbabwe  Sweet potatoes  2013        22222   \n",
       "28241       28241  Zimbabwe           Wheat  2013        22888   \n",
       "\n",
       "       average_rain_fall_mm_per_year  pesticides_tonnes  avg_temp  \n",
       "0                             1485.0             121.00     16.37  \n",
       "1                             1485.0             121.00     16.37  \n",
       "2                             1485.0             121.00     16.37  \n",
       "3                             1485.0             121.00     16.37  \n",
       "4                             1485.0             121.00     16.37  \n",
       "...                              ...                ...       ...  \n",
       "28237                          657.0            2550.07     19.76  \n",
       "28238                          657.0            2550.07     19.76  \n",
       "28239                          657.0            2550.07     19.76  \n",
       "28240                          657.0            2550.07     19.76  \n",
       "28241                          657.0            2550.07     19.76  \n",
       "\n",
       "[28242 rows x 8 columns]>"
      ]
     },
     "execution_count": 77,
     "metadata": {},
     "output_type": "execute_result"
    }
   ],
   "source": [
    "# Display the first five rows of the Yield_df DataFrame\n",
    "\n",
    "Crop_Yield.head"
   ]
  },
  {
   "cell_type": "code",
   "execution_count": 78,
   "id": "17a89682-14b0-4d24-ac9c-01b8b267fac1",
   "metadata": {},
   "outputs": [
    {
     "name": "stdout",
     "output_type": "stream",
     "text": [
      "<class 'pandas.core.frame.DataFrame'>\n",
      "RangeIndex: 28242 entries, 0 to 28241\n",
      "Data columns (total 8 columns):\n",
      " #   Column                         Non-Null Count  Dtype  \n",
      "---  ------                         --------------  -----  \n",
      " 0   Unnamed: 0                     28242 non-null  int64  \n",
      " 1   Area                           28242 non-null  object \n",
      " 2   Item                           28242 non-null  object \n",
      " 3   Year                           28242 non-null  int64  \n",
      " 4   hg/ha_yield                    28242 non-null  int64  \n",
      " 5   average_rain_fall_mm_per_year  28242 non-null  float64\n",
      " 6   pesticides_tonnes              28242 non-null  float64\n",
      " 7   avg_temp                       28242 non-null  float64\n",
      "dtypes: float64(3), int64(3), object(2)\n",
      "memory usage: 1.7+ MB\n"
     ]
    }
   ],
   "source": [
    "# Display summary information about the Yield_df DataFrame\n",
    "\n",
    "Crop_Yield.info()"
   ]
  },
  {
   "cell_type": "code",
   "execution_count": 79,
   "id": "c05b86ab-2895-4bbc-a4b8-09d701daf499",
   "metadata": {},
   "outputs": [],
   "source": [
    "# Drop the 'Unnamed' column since it is a duplicate of the index\n",
    "\n",
    "Crop_Yield.drop(columns=[\"Unnamed: 0\"], inplace=True)"
   ]
  },
  {
   "cell_type": "code",
   "execution_count": null,
   "id": "905262c9-ef4b-4569-b9ce-cb674d1128af",
   "metadata": {},
   "outputs": [],
   "source": []
  }
 ],
 "metadata": {
  "kernelspec": {
   "display_name": "Python 3 (ipykernel)",
   "language": "python",
   "name": "python3"
  },
  "language_info": {
   "codemirror_mode": {
    "name": "ipython",
    "version": 3
   },
   "file_extension": ".py",
   "mimetype": "text/x-python",
   "name": "python",
   "nbconvert_exporter": "python",
   "pygments_lexer": "ipython3",
   "version": "3.12.7"
  }
 },
 "nbformat": 4,
 "nbformat_minor": 5
}
